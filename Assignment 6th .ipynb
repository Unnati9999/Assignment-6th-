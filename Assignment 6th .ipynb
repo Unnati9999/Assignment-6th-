{
 "cells": [
  {
   "cell_type": "markdown",
   "id": "5a9d4c1a-bdd3-432d-95c3-73405a663761",
   "metadata": {},
   "source": [
    "Q1. Explain Class and Object with respect to Object-Oriented Programming. Give a suitable example."
   ]
  },
  {
   "cell_type": "code",
   "execution_count": 1,
   "id": "02615515-1665-4641-a7d0-59ed00e4b660",
   "metadata": {},
   "outputs": [],
   "source": [
    "class pwskills:\n",
    "    \n",
    "    def welcome_msg(self):\n",
    "        print(\"welcome to pwskills\")"
   ]
  },
  {
   "cell_type": "code",
   "execution_count": 2,
   "id": "82f91ea8-e542-4bb8-9464-3e0d2a74f3cd",
   "metadata": {},
   "outputs": [],
   "source": [
    "unnu = pwskills()"
   ]
  },
  {
   "cell_type": "code",
   "execution_count": 3,
   "id": "d1e4044e-788f-4f8b-9043-25a78ab8fb03",
   "metadata": {},
   "outputs": [
    {
     "name": "stdout",
     "output_type": "stream",
     "text": [
      "welcome to pwskills\n"
     ]
    }
   ],
   "source": [
    "unnu.welcome_msg()"
   ]
  },
  {
   "cell_type": "markdown",
   "id": "8d210c4d-d0bf-437d-96f5-4c4e9aafdda0",
   "metadata": {},
   "source": [
    "Q2. Name the four pillars of OOPs."
   ]
  },
  {
   "cell_type": "markdown",
   "id": "fbd98b89-3a7b-48fc-9f87-6614d9b39413",
   "metadata": {},
   "source": [
    "#Abstraction.\n",
    "#Encapsulation.\n",
    "#Inheritance.\n",
    "#Polymorphism."
   ]
  },
  {
   "cell_type": "markdown",
   "id": "311bafde-3cd9-4962-b993-c7484437472b",
   "metadata": {},
   "source": [
    "Q3. Explain why the __init__() function is used. Give a suitable example."
   ]
  },
  {
   "cell_type": "code",
   "execution_count": 4,
   "id": "7a9e5178-5910-4ef6-be30-eb648bdd88c1",
   "metadata": {},
   "outputs": [],
   "source": [
    "class person:\n",
    "    \n",
    "    def __init__(self , name, age , gender):\n",
    "        self.name = name\n",
    "        self.age = age\n",
    "        self.gender = gender\n",
    "        \n",
    "    def person_details(self):\n",
    "        pass"
   ]
  },
  {
   "cell_type": "code",
   "execution_count": 5,
   "id": "703b776e-2a24-4501-a9af-9678a2e8a2fc",
   "metadata": {},
   "outputs": [],
   "source": [
    "pw = person(\"unnu\" , 16 , \"female\")"
   ]
  },
  {
   "cell_type": "code",
   "execution_count": 6,
   "id": "64457cc4-5b58-4f21-8c7d-f885b56b9082",
   "metadata": {},
   "outputs": [
    {
     "data": {
      "text/plain": [
       "16"
      ]
     },
     "execution_count": 6,
     "metadata": {},
     "output_type": "execute_result"
    }
   ],
   "source": [
    "pw.age"
   ]
  },
  {
   "cell_type": "code",
   "execution_count": 7,
   "id": "aca9c990-e2a0-47cc-9696-82a423858676",
   "metadata": {},
   "outputs": [
    {
     "data": {
      "text/plain": [
       "'female'"
      ]
     },
     "execution_count": 7,
     "metadata": {},
     "output_type": "execute_result"
    }
   ],
   "source": [
    "pw.gender"
   ]
  },
  {
   "cell_type": "code",
   "execution_count": 8,
   "id": "81620d27-1164-40d6-9dcb-81580f5b025c",
   "metadata": {},
   "outputs": [
    {
     "data": {
      "text/plain": [
       "'unnu'"
      ]
     },
     "execution_count": 8,
     "metadata": {},
     "output_type": "execute_result"
    }
   ],
   "source": [
    "pw.name"
   ]
  },
  {
   "cell_type": "code",
   "execution_count": 9,
   "id": "4c135af9-ffa4-4d4a-947a-e5605b2d9a28",
   "metadata": {},
   "outputs": [],
   "source": [
    "pw.person_details()"
   ]
  },
  {
   "cell_type": "markdown",
   "id": "27b79609-84ae-4447-9cca-f3ff1a8330ad",
   "metadata": {},
   "source": [
    "Q4. Why self is used in OOPs?"
   ]
  },
  {
   "cell_type": "markdown",
   "id": "e9ff1122-2971-4f90-b1cf-f5f4fcfa6c26",
   "metadata": {},
   "source": [
    "#The self keyword is used to represent an instance (object) of the given class. "
   ]
  },
  {
   "cell_type": "markdown",
   "id": "cbc61c0b-edaf-47f1-ada7-eeeafb3a5414",
   "metadata": {},
   "source": [
    "Q5. What is inheritance? Give an example for each type of inheritance."
   ]
  },
  {
   "cell_type": "code",
   "execution_count": 10,
   "id": "1004486b-7ea1-4476-ae38-58f61aa81e71",
   "metadata": {},
   "outputs": [],
   "source": [
    "class parent:\n",
    "    \n",
    "    def test_parent(self):\n",
    "        print(\"this is my parent class\")"
   ]
  },
  {
   "cell_type": "code",
   "execution_count": 11,
   "id": "535700f5-b131-4d6e-97a2-ae4e77a24b34",
   "metadata": {},
   "outputs": [],
   "source": [
    "class child1(parent):\n",
    "    pass"
   ]
  },
  {
   "cell_type": "code",
   "execution_count": 12,
   "id": "85992535-8a96-476e-b84c-0f2b35655423",
   "metadata": {},
   "outputs": [],
   "source": [
    "child_obj = child1()"
   ]
  },
  {
   "cell_type": "code",
   "execution_count": 13,
   "id": "56622204-10cf-498c-aa7e-682d70c9243e",
   "metadata": {},
   "outputs": [
    {
     "name": "stdout",
     "output_type": "stream",
     "text": [
      "this is my parent class\n"
     ]
    }
   ],
   "source": [
    "child_obj.test_parent()"
   ]
  },
  {
   "cell_type": "code",
   "execution_count": 14,
   "id": "8a195e43-db46-409b-be41-be098f15eb18",
   "metadata": {},
   "outputs": [],
   "source": [
    "class child2(parent):\n",
    "    pass"
   ]
  },
  {
   "cell_type": "code",
   "execution_count": 15,
   "id": "4d3a79fd-1978-48bc-b5a7-2ce7362f6013",
   "metadata": {},
   "outputs": [],
   "source": [
    "child_obj = child2()"
   ]
  },
  {
   "cell_type": "code",
   "execution_count": 16,
   "id": "cb4302f5-9ee2-4177-934b-a38f1a412d0f",
   "metadata": {},
   "outputs": [
    {
     "name": "stdout",
     "output_type": "stream",
     "text": [
      "this is my parent class\n"
     ]
    }
   ],
   "source": [
    "child_obj.test_parent()"
   ]
  },
  {
   "cell_type": "code",
   "execution_count": null,
   "id": "6422f2ad-bb73-4ee5-ae79-c67e99e7541e",
   "metadata": {},
   "outputs": [],
   "source": []
  }
 ],
 "metadata": {
  "kernelspec": {
   "display_name": "Python 3 (ipykernel)",
   "language": "python",
   "name": "python3"
  },
  "language_info": {
   "codemirror_mode": {
    "name": "ipython",
    "version": 3
   },
   "file_extension": ".py",
   "mimetype": "text/x-python",
   "name": "python",
   "nbconvert_exporter": "python",
   "pygments_lexer": "ipython3",
   "version": "3.10.8"
  }
 },
 "nbformat": 4,
 "nbformat_minor": 5
}
